{
 "cells": [
  {
   "cell_type": "markdown",
   "id": "94ccb185",
   "metadata": {},
   "source": [
    "## Que 1Write a Python program which accepts a sequence of comma-separated numbers from user and generate a list and a tuple with those numbers\n",
    "# Ans"
   ]
  },
  {
   "cell_type": "code",
   "execution_count": 1,
   "id": "44f4bb1e",
   "metadata": {},
   "outputs": [
    {
     "name": "stdout",
     "output_type": "stream",
     "text": [
      "Input Some Comma seperated Numbers: 3,5,7,23\n"
     ]
    }
   ],
   "source": [
    "values = input(\"Input Some Comma seperated Numbers: \")"
   ]
  },
  {
   "cell_type": "code",
   "execution_count": 2,
   "id": "5b9f6ea3",
   "metadata": {},
   "outputs": [],
   "source": [
    "list = values.split(\",\")"
   ]
  },
  {
   "cell_type": "code",
   "execution_count": 3,
   "id": "e8d18a7b",
   "metadata": {},
   "outputs": [],
   "source": [
    "tuple = tuple(list)"
   ]
  },
  {
   "cell_type": "code",
   "execution_count": 4,
   "id": "6f37e9c6",
   "metadata": {},
   "outputs": [
    {
     "name": "stdout",
     "output_type": "stream",
     "text": [
      "List:  ['3', '5', '7', '23']\n"
     ]
    }
   ],
   "source": [
    "print('List: ',list)"
   ]
  },
  {
   "cell_type": "code",
   "execution_count": 5,
   "id": "30be503a",
   "metadata": {},
   "outputs": [
    {
     "name": "stdout",
     "output_type": "stream",
     "text": [
      "Tuple:  ('3', '5', '7', '23')\n"
     ]
    }
   ],
   "source": [
    "print('Tuple: ',tuple)"
   ]
  },
  {
   "cell_type": "markdown",
   "id": "41aff57c",
   "metadata": {},
   "source": [
    "## Que 2 Write a Python program to display the first and last colors from the following list.\n",
    "# Ans"
   ]
  },
  {
   "cell_type": "code",
   "execution_count": 6,
   "id": "c2fc3104",
   "metadata": {},
   "outputs": [],
   "source": [
    "color_list = [\"Red\",\"Green\",\"White\" ,\"Black\"]"
   ]
  },
  {
   "cell_type": "code",
   "execution_count": 7,
   "id": "95887094",
   "metadata": {},
   "outputs": [
    {
     "name": "stdout",
     "output_type": "stream",
     "text": [
      "Red Black\n"
     ]
    }
   ],
   "source": [
    "print(color_list[0],color_list[3])"
   ]
  },
  {
   "cell_type": "markdown",
   "id": "0bebbfb7",
   "metadata": {},
   "source": [
    "## Que 3  Write a Python program to print the even numbers from a given list.\n",
    "## Sample List : [1, 2, 3, 4, 5, 6, 7, 8, 9]\n",
    "\n",
    "# Ans"
   ]
  },
  {
   "cell_type": "code",
   "execution_count": 8,
   "id": "5d549d9c",
   "metadata": {},
   "outputs": [],
   "source": [
    "sample_list = [1, 2, 3, 4, 5, 6, 7, 8, 9]"
   ]
  },
  {
   "cell_type": "code",
   "execution_count": 9,
   "id": "adc56206",
   "metadata": {},
   "outputs": [],
   "source": [
    "even_no = [num for num in sample_list if num % 2 == 0]"
   ]
  },
  {
   "cell_type": "code",
   "execution_count": 10,
   "id": "600627cc",
   "metadata": {},
   "outputs": [
    {
     "name": "stdout",
     "output_type": "stream",
     "text": [
      "Even numbers in the list:  [2, 4, 6, 8]\n"
     ]
    }
   ],
   "source": [
    "print('Even numbers in the list: ', even_no)"
   ]
  },
  {
   "cell_type": "code",
   "execution_count": null,
   "id": "ab59dc87",
   "metadata": {},
   "outputs": [],
   "source": []
  }
 ],
 "metadata": {
  "kernelspec": {
   "display_name": "Python 3 (ipykernel)",
   "language": "python",
   "name": "python3"
  },
  "language_info": {
   "codemirror_mode": {
    "name": "ipython",
    "version": 3
   },
   "file_extension": ".py",
   "mimetype": "text/x-python",
   "name": "python",
   "nbconvert_exporter": "python",
   "pygments_lexer": "ipython3",
   "version": "3.10.9"
  }
 },
 "nbformat": 4,
 "nbformat_minor": 5
}
