{
 "cells": [
  {
   "cell_type": "markdown",
   "id": "33d591bf",
   "metadata": {},
   "source": [
    "## Write a Python script to concatenate following dictionaries to create a new one."
   ]
  },
  {
   "cell_type": "markdown",
   "id": "3ccd036f",
   "metadata": {},
   "source": [
    "# Ans"
   ]
  },
  {
   "cell_type": "code",
   "execution_count": 1,
   "id": "0f2fdbd5",
   "metadata": {},
   "outputs": [],
   "source": [
    "dic1={1:10, 2:20}\n",
    "\n",
    "dic2={3:30, 4:40}\n",
    "\n",
    "dic3={5:50,6:60}"
   ]
  },
  {
   "cell_type": "code",
   "execution_count": 2,
   "id": "07b7ea68",
   "metadata": {},
   "outputs": [
    {
     "name": "stdout",
     "output_type": "stream",
     "text": [
      "{1: 10, 2: 20, 3: 30, 4: 40, 5: 50, 6: 60}\n"
     ]
    }
   ],
   "source": [
    "concatenated_dict = {}\n",
    "concatenated_dict.update(dic1)\n",
    "concatenated_dict.update(dic2)\n",
    "concatenated_dict.update(dic3)\n",
    "print(concatenated_dict)"
   ]
  },
  {
   "cell_type": "code",
   "execution_count": null,
   "id": "3a5ed6c0",
   "metadata": {},
   "outputs": [],
   "source": []
  }
 ],
 "metadata": {
  "kernelspec": {
   "display_name": "Python 3 (ipykernel)",
   "language": "python",
   "name": "python3"
  },
  "language_info": {
   "codemirror_mode": {
    "name": "ipython",
    "version": 3
   },
   "file_extension": ".py",
   "mimetype": "text/x-python",
   "name": "python",
   "nbconvert_exporter": "python",
   "pygments_lexer": "ipython3",
   "version": "3.10.9"
  }
 },
 "nbformat": 4,
 "nbformat_minor": 5
}
