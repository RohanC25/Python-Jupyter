{
 "cells": [
  {
   "cell_type": "markdown",
   "id": "3b8f8e53",
   "metadata": {},
   "source": [
    " ## Que 1. Write a Python program to get the volume of a sphere with radius 6."
   ]
  },
  {
   "cell_type": "markdown",
   "id": "997856f0",
   "metadata": {},
   "source": [
    "# Ans"
   ]
  },
  {
   "cell_type": "code",
   "execution_count": 1,
   "id": "52f9bdd7",
   "metadata": {},
   "outputs": [
    {
     "name": "stdout",
     "output_type": "stream",
     "text": [
      "Enter radius: 6\n"
     ]
    }
   ],
   "source": [
    "r = float(input(\"Enter radius: \"))"
   ]
  },
  {
   "cell_type": "code",
   "execution_count": 2,
   "id": "82bcc13c",
   "metadata": {},
   "outputs": [],
   "source": [
    "pi = 3.1415"
   ]
  },
  {
   "cell_type": "code",
   "execution_count": 3,
   "id": "97085edf",
   "metadata": {},
   "outputs": [],
   "source": [
    "V = 4.0/3.0*pi* r**3"
   ]
  },
  {
   "cell_type": "code",
   "execution_count": 4,
   "id": "f81be53d",
   "metadata": {},
   "outputs": [
    {
     "name": "stdout",
     "output_type": "stream",
     "text": [
      "The volume of sphere is:  904.752\n"
     ]
    }
   ],
   "source": [
    "print(\"The volume of sphere is: \",V)"
   ]
  },
  {
   "cell_type": "markdown",
   "id": "097f5228",
   "metadata": {},
   "source": [
    "## Que 2. Write a Python program to calculate the sum of three given numbers, if the values are equal then return three times of their sum hint: write User defined functions"
   ]
  },
  {
   "cell_type": "markdown",
   "id": "33a7e195",
   "metadata": {},
   "source": [
    "# Ans"
   ]
  },
  {
   "cell_type": "code",
   "execution_count": 5,
   "id": "994da96c",
   "metadata": {},
   "outputs": [
    {
     "name": "stdout",
     "output_type": "stream",
     "text": [
      "Enter 1st num: 2\n"
     ]
    }
   ],
   "source": [
    "f = int(input(\"Enter 1st num: \"))"
   ]
  },
  {
   "cell_type": "code",
   "execution_count": 6,
   "id": "04794f96",
   "metadata": {},
   "outputs": [
    {
     "name": "stdout",
     "output_type": "stream",
     "text": [
      "Enter 2nd num: 5\n"
     ]
    }
   ],
   "source": [
    "s = int(input(\"Enter 2nd num: \"))"
   ]
  },
  {
   "cell_type": "code",
   "execution_count": 7,
   "id": "4c0e34ed",
   "metadata": {},
   "outputs": [
    {
     "name": "stdout",
     "output_type": "stream",
     "text": [
      "enter 3rd num: 3\n"
     ]
    }
   ],
   "source": [
    "t = int(input(\"enter 3rd num: \"))"
   ]
  },
  {
   "cell_type": "code",
   "execution_count": 8,
   "id": "08cb5d0b",
   "metadata": {},
   "outputs": [
    {
     "name": "stdout",
     "output_type": "stream",
     "text": [
      "10\n"
     ]
    }
   ],
   "source": [
    "if f != s != t:\n",
    "    sum = (f+s+t)\n",
    "else:\n",
    "        sum = (f+s+t)*3\n",
    "print(sum)"
   ]
  },
  {
   "cell_type": "markdown",
   "id": "f7e1794e",
   "metadata": {},
   "source": [
    " ## Que 3. Write a Python program to count the number 4 in a given list.\n",
    "\n",
    "List = [1,4,6,8,4,9,4]"
   ]
  },
  {
   "cell_type": "markdown",
   "id": "7f908216",
   "metadata": {},
   "source": [
    "# Ans"
   ]
  },
  {
   "cell_type": "code",
   "execution_count": 9,
   "id": "f0277b35",
   "metadata": {},
   "outputs": [],
   "source": [
    "list = [1,4,6,8,4,9,4]"
   ]
  },
  {
   "cell_type": "code",
   "execution_count": 10,
   "id": "f9f9464c",
   "metadata": {},
   "outputs": [],
   "source": [
    "count_4 = list.count(4)"
   ]
  },
  {
   "cell_type": "code",
   "execution_count": 11,
   "id": "4748b7e4",
   "metadata": {},
   "outputs": [
    {
     "name": "stdout",
     "output_type": "stream",
     "text": [
      "3\n"
     ]
    }
   ],
   "source": [
    "print(count_4)"
   ]
  },
  {
   "cell_type": "markdown",
   "id": "cade43f8",
   "metadata": {},
   "source": [
    "## Que 4. Write a Python program to print all even numbers from a given numbers list in the same order and stop the printing if any numbers that come after 237 in the sequence. Go to the editorSample numbers list :\n",
    "\n",
    "399, 162, 758, 219, 918, 237, 412, 566, 826, 248, 866, 950, 626, 949, 687, 217,\n",
    "\n",
    "815, 67, 104, 58, 512, 24, 892, 894, 767, 553, 81, 379, 843, 831, 445, 742, 717,\n",
    "\n",
    "958,743, 527]"
   ]
  },
  {
   "cell_type": "markdown",
   "id": "826cc3c1",
   "metadata": {},
   "source": [
    "# Ans"
   ]
  },
  {
   "cell_type": "code",
   "execution_count": 12,
   "id": "9642be67",
   "metadata": {},
   "outputs": [
    {
     "name": "stdout",
     "output_type": "stream",
     "text": [
      "162\n",
      "758\n",
      "918\n"
     ]
    }
   ],
   "source": [
    "numbers = [399, 162, 758, 219, 918, 237, 412, 566, 826, 248, 866, 950, 626, 949, 687, 217,\n",
    "           815, 67, 104, 58, 512, 24, 892, 894, 767, 553, 81, 379, 843, 831, 445, 742, 717,\n",
    "           958, 743, 527]\n",
    "\n",
    "for num in numbers:\n",
    "    if num == 237:\n",
    "        break\n",
    "    if num % 2 == 0:\n",
    "        print(num)"
   ]
  },
  {
   "cell_type": "markdown",
   "id": "fa68e06a",
   "metadata": {},
   "source": [
    "## Que 5. Write a Python program to find those numbers which are divisible by 7 and multiple of 5, between 1500 and 2700 (both included)"
   ]
  },
  {
   "cell_type": "markdown",
   "id": "28cce523",
   "metadata": {},
   "source": [
    "# Ans"
   ]
  },
  {
   "cell_type": "code",
   "execution_count": 13,
   "id": "3a8b43b0",
   "metadata": {},
   "outputs": [],
   "source": [
    "result=[]"
   ]
  },
  {
   "cell_type": "code",
   "execution_count": 14,
   "id": "6a18b297",
   "metadata": {},
   "outputs": [],
   "source": [
    "for num in range(1500,2700+1):\n",
    "    if num % 7 == 0 and num % 5 == 0:\n",
    "        result.append(num)"
   ]
  },
  {
   "cell_type": "code",
   "execution_count": 15,
   "id": "4877d874",
   "metadata": {},
   "outputs": [
    {
     "name": "stdout",
     "output_type": "stream",
     "text": [
      "[1505, 1540, 1575, 1610, 1645, 1680, 1715, 1750, 1785, 1820, 1855, 1890, 1925, 1960, 1995, 2030, 2065, 2100, 2135, 2170, 2205, 2240, 2275, 2310, 2345, 2380, 2415, 2450, 2485, 2520, 2555, 2590, 2625, 2660, 2695]\n"
     ]
    }
   ],
   "source": [
    "print(result)"
   ]
  },
  {
   "cell_type": "markdown",
   "id": "ae5dea64",
   "metadata": {},
   "source": [
    "## Que 6. Write a Python program that prints all the numbers from 0 to 6 except 3 and 6.\n",
    "\n",
    "Note : Use 'continue' statement."
   ]
  },
  {
   "cell_type": "markdown",
   "id": "846301a5",
   "metadata": {},
   "source": [
    "# Ans"
   ]
  },
  {
   "cell_type": "code",
   "execution_count": 16,
   "id": "f2222f46",
   "metadata": {},
   "outputs": [
    {
     "name": "stdout",
     "output_type": "stream",
     "text": [
      "0\n",
      "1\n",
      "2\n",
      "4\n",
      "5\n"
     ]
    }
   ],
   "source": [
    "for num in range(7):\n",
    "    if num == 3 or num == 6:\n",
    "        continue\n",
    "    print(num)"
   ]
  },
  {
   "cell_type": "markdown",
   "id": "380e3ac3",
   "metadata": {},
   "source": [
    "## Que 7. Write a Python program to get the Fibonacci series between 0 to 50."
   ]
  },
  {
   "cell_type": "markdown",
   "id": "148a6d22",
   "metadata": {},
   "source": [
    "# Ans"
   ]
  },
  {
   "cell_type": "code",
   "execution_count": 17,
   "id": "b9e62a7e",
   "metadata": {},
   "outputs": [
    {
     "name": "stdout",
     "output_type": "stream",
     "text": [
      "0\n",
      "1\n",
      "1\n",
      "2\n",
      "3\n",
      "5\n",
      "8\n",
      "13\n",
      "21\n",
      "34\n"
     ]
    }
   ],
   "source": [
    "a, b = 0,1\n",
    "print(a)\n",
    "while b <= 50:\n",
    "    print(b)\n",
    "    a, b = b, a+b"
   ]
  },
  {
   "cell_type": "markdown",
   "id": "62acb255",
   "metadata": {},
   "source": [
    "## Que 9. Write a Python function that takes a list and returns a new list with unique elements of the first list.\n",
    "\n",
    "Sample List : [1,2,3,3,3,3,4,5]"
   ]
  },
  {
   "cell_type": "markdown",
   "id": "ec51ad39",
   "metadata": {},
   "source": [
    "# Ans"
   ]
  },
  {
   "cell_type": "code",
   "execution_count": 18,
   "id": "fc5e39a7",
   "metadata": {},
   "outputs": [
    {
     "name": "stdout",
     "output_type": "stream",
     "text": [
      "[1, 2, 3, 4, 5]\n"
     ]
    }
   ],
   "source": [
    "def get_unique_elements(input_list):\n",
    "    unique_list = []\n",
    "    for item in input_list:\n",
    "        if item not in unique_list:\n",
    "            unique_list.append(item)\n",
    "    return unique_list\n",
    "sample_list = [1, 2, 3, 3, 3, 3, 4, 5]\n",
    "result = get_unique_elements(sample_list)\n",
    "print(result)"
   ]
  },
  {
   "cell_type": "code",
   "execution_count": null,
   "id": "cb33a514",
   "metadata": {},
   "outputs": [],
   "source": []
  }
 ],
 "metadata": {
  "kernelspec": {
   "display_name": "Python 3 (ipykernel)",
   "language": "python",
   "name": "python3"
  },
  "language_info": {
   "codemirror_mode": {
    "name": "ipython",
    "version": 3
   },
   "file_extension": ".py",
   "mimetype": "text/x-python",
   "name": "python",
   "nbconvert_exporter": "python",
   "pygments_lexer": "ipython3",
   "version": "3.10.9"
  }
 },
 "nbformat": 4,
 "nbformat_minor": 5
}
