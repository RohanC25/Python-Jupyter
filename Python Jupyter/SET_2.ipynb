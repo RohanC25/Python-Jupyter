{
 "cells": [
  {
   "cell_type": "markdown",
   "id": "a5d97b74",
   "metadata": {},
   "source": [
    "## Que 1. Write a Python program to calculate number of days between two dates. Hint: use Datetime package/module.\n",
    "\n",
    "Sample dates : (2014, 7, 2), (2014, 7, 11)"
   ]
  },
  {
   "cell_type": "markdown",
   "id": "4baf2ba2",
   "metadata": {},
   "source": [
    "# Ans"
   ]
  },
  {
   "cell_type": "code",
   "execution_count": 1,
   "id": "e94a665f",
   "metadata": {},
   "outputs": [],
   "source": [
    "from datetime import date"
   ]
  },
  {
   "cell_type": "code",
   "execution_count": 2,
   "id": "a4d6091b",
   "metadata": {},
   "outputs": [],
   "source": [
    "f_date = date(2014,7,2)"
   ]
  },
  {
   "cell_type": "code",
   "execution_count": 3,
   "id": "006bf1fe",
   "metadata": {},
   "outputs": [],
   "source": [
    "l_date = date(2014,7,11)"
   ]
  },
  {
   "cell_type": "code",
   "execution_count": 4,
   "id": "55937735",
   "metadata": {},
   "outputs": [],
   "source": [
    "no_of_days = l_date - f_date"
   ]
  },
  {
   "cell_type": "code",
   "execution_count": 5,
   "id": "5f6fe2b7",
   "metadata": {},
   "outputs": [
    {
     "name": "stdout",
     "output_type": "stream",
     "text": [
      "9\n"
     ]
    }
   ],
   "source": [
    "print(no_of_days.days)"
   ]
  }
 ],
 "metadata": {
  "kernelspec": {
   "display_name": "Python 3 (ipykernel)",
   "language": "python",
   "name": "python3"
  },
  "language_info": {
   "codemirror_mode": {
    "name": "ipython",
    "version": 3
   },
   "file_extension": ".py",
   "mimetype": "text/x-python",
   "name": "python",
   "nbconvert_exporter": "python",
   "pygments_lexer": "ipython3",
   "version": "3.10.9"
  }
 },
 "nbformat": 4,
 "nbformat_minor": 5
}
