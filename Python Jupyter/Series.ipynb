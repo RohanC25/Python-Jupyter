{
 "cells": [
  {
   "cell_type": "markdown",
   "id": "32127711",
   "metadata": {},
   "source": [
    "## Que 1. Write a Python program to add, subtract, multiple and divide two Pandas Series.\n",
    "\n",
    "Sample Series: [2, 4, 6, 8, 10], [1, 3, 5, 7, 9]"
   ]
  },
  {
   "cell_type": "code",
   "execution_count": 1,
   "id": "111754ef",
   "metadata": {},
   "outputs": [],
   "source": [
    "import pandas as pd"
   ]
  },
  {
   "cell_type": "code",
   "execution_count": 2,
   "id": "5bf25850",
   "metadata": {},
   "outputs": [],
   "source": [
    "s1 = pd.Series([2,4,6,8,10])"
   ]
  },
  {
   "cell_type": "code",
   "execution_count": 3,
   "id": "ff1e1ea6",
   "metadata": {},
   "outputs": [],
   "source": [
    "s2 = pd.Series([1,3,5,7,9])"
   ]
  },
  {
   "cell_type": "code",
   "execution_count": 4,
   "id": "80e19a72",
   "metadata": {},
   "outputs": [],
   "source": [
    "Adding = s1 + s2"
   ]
  },
  {
   "cell_type": "code",
   "execution_count": 5,
   "id": "803e4e8c",
   "metadata": {},
   "outputs": [
    {
     "name": "stdout",
     "output_type": "stream",
     "text": [
      "Addition of two series is:  0     3\n",
      "1     7\n",
      "2    11\n",
      "3    15\n",
      "4    19\n",
      "dtype: int64\n"
     ]
    }
   ],
   "source": [
    "print(\"Addition of two series is: \", Adding)"
   ]
  },
  {
   "cell_type": "code",
   "execution_count": 6,
   "id": "5d3a2ef3",
   "metadata": {},
   "outputs": [],
   "source": [
    "subtracting = s1 - s2"
   ]
  },
  {
   "cell_type": "code",
   "execution_count": 7,
   "id": "c53e1f63",
   "metadata": {},
   "outputs": [
    {
     "name": "stdout",
     "output_type": "stream",
     "text": [
      "Subtraction of two series is:   0    1\n",
      "1    1\n",
      "2    1\n",
      "3    1\n",
      "4    1\n",
      "dtype: int64\n"
     ]
    }
   ],
   "source": [
    "print(\"Subtraction of two series is:  \",subtracting)"
   ]
  },
  {
   "cell_type": "code",
   "execution_count": 8,
   "id": "9f10ab42",
   "metadata": {},
   "outputs": [],
   "source": [
    "multiply = s1 * s2"
   ]
  },
  {
   "cell_type": "code",
   "execution_count": 9,
   "id": "eb781c3c",
   "metadata": {},
   "outputs": [
    {
     "name": "stdout",
     "output_type": "stream",
     "text": [
      "Multiplication os two series is:  0     2\n",
      "1    12\n",
      "2    30\n",
      "3    56\n",
      "4    90\n",
      "dtype: int64\n"
     ]
    }
   ],
   "source": [
    "print(\"Multiplication os two series is: \",multiply)"
   ]
  },
  {
   "cell_type": "code",
   "execution_count": 10,
   "id": "1c1302d9",
   "metadata": {},
   "outputs": [],
   "source": [
    "divide = s1 / s2"
   ]
  },
  {
   "cell_type": "code",
   "execution_count": 11,
   "id": "da6495cb",
   "metadata": {},
   "outputs": [
    {
     "name": "stdout",
     "output_type": "stream",
     "text": [
      "Division of series is:  0    2.000000\n",
      "1    1.333333\n",
      "2    1.200000\n",
      "3    1.142857\n",
      "4    1.111111\n",
      "dtype: float64\n"
     ]
    }
   ],
   "source": [
    "print(\"Division of series is: \", divide)"
   ]
  },
  {
   "cell_type": "code",
   "execution_count": null,
   "id": "d9712d0d",
   "metadata": {},
   "outputs": [],
   "source": []
  }
 ],
 "metadata": {
  "kernelspec": {
   "display_name": "Python 3 (ipykernel)",
   "language": "python",
   "name": "python3"
  },
  "language_info": {
   "codemirror_mode": {
    "name": "ipython",
    "version": 3
   },
   "file_extension": ".py",
   "mimetype": "text/x-python",
   "name": "python",
   "nbconvert_exporter": "python",
   "pygments_lexer": "ipython3",
   "version": "3.10.9"
  }
 },
 "nbformat": 4,
 "nbformat_minor": 5
}
