{
 "cells": [
  {
   "cell_type": "markdown",
   "id": "c039ee19",
   "metadata": {},
   "source": [
    "## Que 1. Write a Python program to concatenate all elements in a list into a string and return it."
   ]
  },
  {
   "cell_type": "markdown",
   "id": "31ab3723",
   "metadata": {},
   "source": [
    "# Ans"
   ]
  },
  {
   "cell_type": "code",
   "execution_count": 1,
   "id": "825f8f9c",
   "metadata": {},
   "outputs": [
    {
     "name": "stdout",
     "output_type": "stream",
     "text": [
      "This is Answer\n"
     ]
    }
   ],
   "source": [
    "def concatenate_list_elements(input_list):\n",
    "    concatenated_string = ''.join(str(element) for element in input_list)\n",
    "    return concatenated_string\n",
    "sample_list = [\"This\",\" \",\"is\", \" \", \"Answer\"]\n",
    "result = concatenate_list_elements(sample_list)\n",
    "print(result)"
   ]
  },
  {
   "cell_type": "code",
   "execution_count": null,
   "id": "59ac69fa",
   "metadata": {},
   "outputs": [],
   "source": []
  }
 ],
 "metadata": {
  "kernelspec": {
   "display_name": "Python 3 (ipykernel)",
   "language": "python",
   "name": "python3"
  },
  "language_info": {
   "codemirror_mode": {
    "name": "ipython",
    "version": 3
   },
   "file_extension": ".py",
   "mimetype": "text/x-python",
   "name": "python",
   "nbconvert_exporter": "python",
   "pygments_lexer": "ipython3",
   "version": "3.10.9"
  }
 },
 "nbformat": 4,
 "nbformat_minor": 5
}
