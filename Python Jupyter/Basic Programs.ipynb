{
 "cells": [
  {
   "cell_type": "markdown",
   "id": "fe6560b7",
   "metadata": {},
   "source": [
    "## Que 1. Write Python Programs to use various operators in Python"
   ]
  },
  {
   "cell_type": "code",
   "execution_count": 15,
   "id": "93b39964",
   "metadata": {},
   "outputs": [
    {
     "name": "stdout",
     "output_type": "stream",
     "text": [
      "30\n",
      "-10\n",
      "200\n",
      "0.5\n",
      "10\n",
      "100000000000000000000\n"
     ]
    }
   ],
   "source": [
    "a = 10\n",
    "b = 20\n",
    "\n",
    "# Addition\n",
    "print(a + b)\n",
    "\n",
    "# Subtraction\n",
    "print(a - b)\n",
    "\n",
    "# Multiplication\n",
    "print(a * b)\n",
    "\n",
    "# Division\n",
    "print(a / b)\n",
    "\n",
    "# Modulus\n",
    "print(a % b)\n",
    "\n",
    "# Exponentiation\n",
    "print(a ** b)"
   ]
  },
  {
   "cell_type": "code",
   "execution_count": 16,
   "id": "0f330199",
   "metadata": {},
   "outputs": [
    {
     "name": "stdout",
     "output_type": "stream",
     "text": [
      "False\n",
      "True\n",
      "False\n",
      "True\n",
      "False\n",
      "True\n"
     ]
    }
   ],
   "source": [
    "a = 10\n",
    "b = 20\n",
    "\n",
    "# Equality\n",
    "print(a == b)\n",
    "\n",
    "# Inequality\n",
    "print(a != b)\n",
    "\n",
    "# Greater than\n",
    "print(a > b)\n",
    "\n",
    "# Less than\n",
    "print(a < b)\n",
    "\n",
    "# Greater than or equal to\n",
    "print(a >= b)\n",
    "\n",
    "# Less than or equal to\n",
    "print(a <= b)"
   ]
  },
  {
   "cell_type": "code",
   "execution_count": 17,
   "id": "79fe62b4",
   "metadata": {},
   "outputs": [
    {
     "name": "stdout",
     "output_type": "stream",
     "text": [
      "False\n",
      "True\n",
      "False\n"
     ]
    }
   ],
   "source": [
    "a = True\n",
    "b = False\n",
    "\n",
    "# AND\n",
    "print(a and b)\n",
    "\n",
    "# OR\n",
    "print(a or b)\n",
    "\n",
    "# NOT\n",
    "print(not a)"
   ]
  },
  {
   "cell_type": "code",
   "execution_count": 18,
   "id": "ea66772c",
   "metadata": {},
   "outputs": [
    {
     "name": "stdout",
     "output_type": "stream",
     "text": [
      "True\n",
      "False\n"
     ]
    }
   ],
   "source": [
    "a = 'Python'\n",
    "b = 'thon'\n",
    "\n",
    "# IN\n",
    "print('Python' in a)\n",
    "\n",
    "# NOT IN\n",
    "print('thon' not in a)"
   ]
  },
  {
   "cell_type": "code",
   "execution_count": 21,
   "id": "1cd923d1",
   "metadata": {},
   "outputs": [
    {
     "name": "stdout",
     "output_type": "stream",
     "text": [
      "20\n",
      "10\n",
      "100\n",
      "10.0\n",
      "0.0\n",
      "0.0\n"
     ]
    }
   ],
   "source": [
    "a = 10\n",
    "\n",
    "# Arithmetic assignment\n",
    "a += 10\n",
    "print(a)\n",
    "\n",
    "# Subtract assignment\n",
    "a -= 10\n",
    "print(a)\n",
    "\n",
    "# Multiplication assignment\n",
    "a *= 10\n",
    "print(a)\n",
    "\n",
    "# Division assignment\n",
    "a /= 10\n",
    "print(a)\n",
    "\n",
    "# Modulus assignment\n",
    "a %= 10\n",
    "print(a)\n",
    "\n",
    "# Exponentiation assignment\n",
    "a **= 10\n",
    "print(a)"
   ]
  },
  {
   "cell_type": "markdown",
   "id": "ff0673b3",
   "metadata": {},
   "source": [
    "## 2. Create list of elements and slice and dice it"
   ]
  },
  {
   "cell_type": "code",
   "execution_count": 22,
   "id": "5c2b7bb9",
   "metadata": {},
   "outputs": [
    {
     "name": "stdout",
     "output_type": "stream",
     "text": [
      "Original list:\n",
      "[1, 2, 3, 4, 5, 6, 7, 8, 9, 10]\n",
      "\n",
      "Sliced elements from index 2 to 4:\n",
      "[3, 4, 5]\n",
      "\n",
      "Sliced elements from the beginning up to index 5:\n",
      "[1, 2, 3, 4, 5, 6]\n",
      "\n",
      "Sliced elements from index 4 to the end:\n",
      "[5, 6, 7, 8, 9, 10]\n",
      "\n",
      "Sliced elements from index 1 to 8, skipping every second element:\n",
      "[2, 4, 6, 8]\n",
      "\n",
      "Reversed elements:\n",
      "[10, 9, 8, 7, 6, 5, 4, 3, 2, 1]\n",
      "\n",
      "Modified list after replacing a slice:\n",
      "[1, 2, 11, 12, 13, 6, 7, 8, 9, 10]\n"
     ]
    }
   ],
   "source": [
    "elements = [1, 2, 3, 4, 5, 6, 7, 8, 9, 10]\n",
    "\n",
    "print(\"Original list:\")\n",
    "print(elements)\n",
    "\n",
    "# 1. Slice elements from index 2 to index 5 (exclusive)\n",
    "sliced_elements = elements[2:5]\n",
    "print(\"\\nSliced elements from index 2 to 4:\")\n",
    "print(sliced_elements)\n",
    "\n",
    "# 2. Slice elements from the beginning up to index 6 (exclusive)\n",
    "sliced_beginning = elements[:6]\n",
    "print(\"\\nSliced elements from the beginning up to index 5:\")\n",
    "print(sliced_beginning)\n",
    "\n",
    "# 3. Slice elements from index 4 to the end of the list\n",
    "sliced_end = elements[4:]\n",
    "print(\"\\nSliced elements from index 4 to the end:\")\n",
    "print(sliced_end)\n",
    "\n",
    "# 4. Slice elements from index 1 to index 9, skipping every second element\n",
    "sliced_with_step = elements[1:9:2]\n",
    "print(\"\\nSliced elements from index 1 to 8, skipping every second element:\")\n",
    "print(sliced_with_step)\n",
    "\n",
    "# 5. Reverse the list\n",
    "reversed_elements = elements[::-1]\n",
    "print(\"\\nReversed elements:\")\n",
    "print(reversed_elements)\n",
    "\n",
    "# 6. Replace a slice of elements with new values\n",
    "elements[2:5] = [11, 12, 13]\n",
    "print(\"\\nModified list after replacing a slice:\")\n",
    "print(elements)"
   ]
  },
  {
   "cell_type": "markdown",
   "id": "0870ffca",
   "metadata": {},
   "source": [
    "## 3. Using while loop accept numbers until sum of numbers is less than 100"
   ]
  },
  {
   "cell_type": "code",
   "execution_count": 30,
   "id": "2f9c80ac",
   "metadata": {},
   "outputs": [
    {
     "name": "stdout",
     "output_type": "stream",
     "text": [
      "Enter a number: 25\n",
      "Enter a number: 25\n",
      "Enter a number: 25\n",
      "Enter a number: 25\n",
      "The sum of the numbers is: 100\n"
     ]
    }
   ],
   "source": [
    "sum = 0\n",
    "\n",
    "while sum < 100:\n",
    "        number = int(input(\"Enter a number: \"))\n",
    "        sum += number\n",
    "print(\"The sum of the numbers is:\", sum)"
   ]
  },
  {
   "cell_type": "markdown",
   "id": "42270647",
   "metadata": {},
   "source": [
    "## 4. Write a python program Read & write Excel files "
   ]
  },
  {
   "cell_type": "code",
   "execution_count": 32,
   "id": "5b995b7a",
   "metadata": {},
   "outputs": [],
   "source": [
    "data = {\n",
    "    'Name': ['Alice', 'Bob', 'Charlie', 'David'],\n",
    "    'Age': [25, 30, 35, 40],\n",
    "    'City': ['New York', 'London', 'Paris', 'Tokyo']\n",
    "}\n",
    "\n",
    "# Convert the data to a DataFrame\n",
    "d = pd.DataFrame(data)\n",
    "\n",
    "# Write the DataFrame to an Excel file\n",
    "d.to_excel('output_file.xlsx', index=False, sheet_name='Sheet1')"
   ]
  },
  {
   "cell_type": "code",
   "execution_count": 33,
   "id": "f72d3775",
   "metadata": {},
   "outputs": [
    {
     "data": {
      "text/html": [
       "<div>\n",
       "<style scoped>\n",
       "    .dataframe tbody tr th:only-of-type {\n",
       "        vertical-align: middle;\n",
       "    }\n",
       "\n",
       "    .dataframe tbody tr th {\n",
       "        vertical-align: top;\n",
       "    }\n",
       "\n",
       "    .dataframe thead th {\n",
       "        text-align: right;\n",
       "    }\n",
       "</style>\n",
       "<table border=\"1\" class=\"dataframe\">\n",
       "  <thead>\n",
       "    <tr style=\"text-align: right;\">\n",
       "      <th></th>\n",
       "      <th>Name</th>\n",
       "      <th>Age</th>\n",
       "      <th>City</th>\n",
       "    </tr>\n",
       "  </thead>\n",
       "  <tbody>\n",
       "    <tr>\n",
       "      <th>0</th>\n",
       "      <td>Alice</td>\n",
       "      <td>25</td>\n",
       "      <td>New York</td>\n",
       "    </tr>\n",
       "    <tr>\n",
       "      <th>1</th>\n",
       "      <td>Bob</td>\n",
       "      <td>30</td>\n",
       "      <td>London</td>\n",
       "    </tr>\n",
       "    <tr>\n",
       "      <th>2</th>\n",
       "      <td>Charlie</td>\n",
       "      <td>35</td>\n",
       "      <td>Paris</td>\n",
       "    </tr>\n",
       "    <tr>\n",
       "      <th>3</th>\n",
       "      <td>David</td>\n",
       "      <td>40</td>\n",
       "      <td>Tokyo</td>\n",
       "    </tr>\n",
       "  </tbody>\n",
       "</table>\n",
       "</div>"
      ],
      "text/plain": [
       "      Name  Age      City\n",
       "0    Alice   25  New York\n",
       "1      Bob   30    London\n",
       "2  Charlie   35     Paris\n",
       "3    David   40     Tokyo"
      ]
     },
     "execution_count": 33,
     "metadata": {},
     "output_type": "execute_result"
    }
   ],
   "source": [
    "d"
   ]
  },
  {
   "cell_type": "markdown",
   "id": "fa0cb9cf",
   "metadata": {},
   "source": [
    "## 5. Write a python program to scrape reviews from a commercial web site"
   ]
  },
  {
   "cell_type": "code",
   "execution_count": 34,
   "id": "eba629fb",
   "metadata": {},
   "outputs": [
    {
     "name": "stdout",
     "output_type": "stream",
     "text": [
      "Requirement already satisfied: beautifulsoup4 in c:\\users\\lenovo\\anaconda3\\lib\\site-packages (4.11.1)Note: you may need to restart the kernel to use updated packages.\n",
      "\n",
      "Requirement already satisfied: soupsieve>1.2 in c:\\users\\lenovo\\anaconda3\\lib\\site-packages (from beautifulsoup4) (2.3.2.post1)\n"
     ]
    }
   ],
   "source": [
    "pip install beautifulsoup4"
   ]
  },
  {
   "cell_type": "code",
   "execution_count": 38,
   "id": "47785f0d",
   "metadata": {},
   "outputs": [],
   "source": [
    "import requests\n",
    "from bs4 import BeautifulSoup\n",
    "def scrape_reviews(url):\n",
    "    # Send an HTTP GET request to the URL\n",
    "    response = requests.get(url)\n",
    "\n",
    "    # Check if the request was successful\n",
    "    if response.status_code == 200:\n",
    "        # Parse the HTML content using BeautifulSoup\n",
    "        soup = BeautifulSoup(response.content, 'html.parser')\n",
    "\n",
    "        # Find the review elements on the page\n",
    "        review_elements = soup.find_all('div', class_='review')\n",
    "\n",
    "        # Extract and print the reviews\n",
    "        for idx, review_element in enumerate(review_elements, 1):\n",
    "            review_text = review_element.find('p', class_='review-text').text.strip()\n",
    "            print(f\"Review {idx}: {review_text}\")\n",
    "    else:\n",
    "        print(f\"Failed to fetch data from the URL. Status code: {response.status_code}\")\n",
    "\n",
    "if __name__ == \"__main__\":\n",
    "    # Replace 'https://www.example.com/reviews' with the actual URL containing reviews\n",
    "    website_url = 'https://www.instagram.com/reviews'\n",
    "    scrape_reviews(website_url)"
   ]
  },
  {
   "cell_type": "markdown",
   "id": "6fd1a810",
   "metadata": {},
   "source": [
    "## 6. Create a 3x3 matrix with values ranging from 2 to 10 using numpy"
   ]
  },
  {
   "cell_type": "code",
   "execution_count": 39,
   "id": "99fd5beb",
   "metadata": {},
   "outputs": [
    {
     "name": "stdout",
     "output_type": "stream",
     "text": [
      "[[ 2  3  4]\n",
      " [ 5  6  7]\n",
      " [ 8  9 10]]\n"
     ]
    }
   ],
   "source": [
    "import numpy as np\n",
    "\n",
    "# Create a 3x3 matrix\n",
    "matrix = np.arange(2, 11).reshape(3, 3)\n",
    "\n",
    "# Print the matrix\n",
    "print(matrix)"
   ]
  },
  {
   "cell_type": "markdown",
   "id": "1d630ee9",
   "metadata": {},
   "source": [
    "## 7. Write a Python program to convert a list of numeric value into a one-dimensional NumPy array"
   ]
  },
  {
   "cell_type": "code",
   "execution_count": 40,
   "id": "62583ca5",
   "metadata": {},
   "outputs": [
    {
     "name": "stdout",
     "output_type": "stream",
     "text": [
      "[1 2 3 4 5]\n"
     ]
    }
   ],
   "source": [
    "import numpy as np\n",
    "\n",
    "# Create a list of numeric values\n",
    "list_of_numbers = [1, 2, 3, 4, 5]\n",
    "\n",
    "# Convert the list into a NumPy array\n",
    "numpy_array = np.array(list_of_numbers)\n",
    "\n",
    "# Print the NumPy array\n",
    "print(numpy_array)"
   ]
  },
  {
   "cell_type": "markdown",
   "id": "18f74ec9",
   "metadata": {},
   "source": [
    "## 8. \"Write a Python program to create a null vector of size 10 and update sixth value to 11."
   ]
  },
  {
   "cell_type": "code",
   "execution_count": 42,
   "id": "4f94118e",
   "metadata": {},
   "outputs": [
    {
     "name": "stdout",
     "output_type": "stream",
     "text": [
      "[ 0.  0.  0.  0.  0. 11.  0.  0.  0.  0.]\n"
     ]
    }
   ],
   "source": [
    "import numpy as np\n",
    "\n",
    "# Create a null vector of size 10\n",
    "vector = np.zeros(10)\n",
    "\n",
    "# Update the sixth value to 11\n",
    "vector[5] = 11\n",
    "\n",
    "# Print the vector\n",
    "print(vector)"
   ]
  },
  {
   "cell_type": "code",
   "execution_count": null,
   "id": "9a6aaeac",
   "metadata": {},
   "outputs": [],
   "source": []
  }
 ],
 "metadata": {
  "kernelspec": {
   "display_name": "Python 3 (ipykernel)",
   "language": "python",
   "name": "python3"
  },
  "language_info": {
   "codemirror_mode": {
    "name": "ipython",
    "version": 3
   },
   "file_extension": ".py",
   "mimetype": "text/x-python",
   "name": "python",
   "nbconvert_exporter": "python",
   "pygments_lexer": "ipython3",
   "version": "3.10.9"
  }
 },
 "nbformat": 4,
 "nbformat_minor": 5
}
