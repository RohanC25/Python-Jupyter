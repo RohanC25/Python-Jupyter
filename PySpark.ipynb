{
 "cells": [
  {
   "cell_type": "markdown",
   "id": "89d27528",
   "metadata": {},
   "source": [
    "# Capstone Project - Olympic Data Analysis Using Pyspark"
   ]
  },
  {
   "cell_type": "markdown",
   "id": "932bbd2b",
   "metadata": {},
   "source": [
    "### Introduction"
   ]
  },
  {
   "cell_type": "markdown",
   "id": "b8a57bf0",
   "metadata": {},
   "source": [
    "##### In this Olympic data , 110 countries were participated in 49 sports from year 2000 to 2012. Data also contains player names with their age and number of gold , silver and brone medals, they won . With total medals they won."
   ]
  },
  {
   "cell_type": "markdown",
   "id": "86acfc31",
   "metadata": {},
   "source": [
    "|    |  Variable     |  Type    |\n",
    "|----|:--------------|:---------|\n",
    "| 1\t | Name\t         |Categorical|\t\n",
    "| 2\t | Age\t         |Numeric\t |\n",
    "| 3\t | Country\t     |Categorical|\t\n",
    "| 4\t | Year\t         |Categorical|\t\n",
    "| 5\t | Date\t         |Categorical|\t\n",
    "| 6\t | Sports\t     |Numeric\t | \n",
    "| 7\t | Gold_medal\t |Numeric    |\t\n",
    "| 8\t | Silver_Medal  |Numeric    |\t\n",
    "| 9  | Bronze_medal\t |Numeric\t |\n",
    "| 10 | Total_Medal\t |Numeric\t |"
   ]
  },
  {
   "cell_type": "code",
   "execution_count": 1,
   "id": "e979c595",
   "metadata": {},
   "outputs": [],
   "source": [
    "# Install pyspark\n",
    "#pip install pyspark"
   ]
  },
  {
   "cell_type": "code",
   "execution_count": 2,
   "id": "e27edc1e",
   "metadata": {},
   "outputs": [],
   "source": [
    "# Initialize pyspark\n",
    "from pyspark.sql import SparkSession\n",
    "\n",
    "# Create spark session\n",
    "spark = SparkSession.builder.appName('Project_1').getOrCreate()\n"
   ]
  },
  {
   "cell_type": "markdown",
   "id": "542b7aa3",
   "metadata": {},
   "source": [
    "## Q1. Write PySpark code to read olympix_data.csv file"
   ]
  },
  {
   "cell_type": "code",
   "execution_count": 3,
   "id": "4bb8c4ca",
   "metadata": {},
   "outputs": [
    {
     "data": {
      "text/plain": [
       "<bound method DataFrame.show of DataFrame[name: string, age: double, country: string, year: int, Date_Given: string, sports: string, gold_medal: int, silver_medal: int, brone_medal: int, total_medal: int]>"
      ]
     },
     "execution_count": 3,
     "metadata": {},
     "output_type": "execute_result"
    }
   ],
   "source": [
    "# Import CSV format into dataframe \n",
    "data = spark.read.csv(\"D:/ExcelR Project/Project/2/olympic_datas.csv\", header = True, inferSchema = True)\n",
    "data.show"
   ]
  },
  {
   "cell_type": "markdown",
   "id": "496bb8c1",
   "metadata": {},
   "source": [
    "## Q2. Write PySpark code to print the Olympic Sports/games in the dataset."
   ]
  },
  {
   "cell_type": "code",
   "execution_count": 4,
   "id": "d71eddd7",
   "metadata": {},
   "outputs": [
    {
     "data": {
      "text/plain": [
       "49"
      ]
     },
     "execution_count": 4,
     "metadata": {},
     "output_type": "execute_result"
    }
   ],
   "source": [
    "# Get column data \n",
    "sports = data.select(\"sports\").distinct().count()\n",
    "sports"
   ]
  },
  {
   "cell_type": "code",
   "execution_count": 5,
   "id": "a1be9926",
   "metadata": {},
   "outputs": [
    {
     "name": "stdout",
     "output_type": "stream",
     "text": [
      "+--------------------+\n",
      "|              sports|\n",
      "+--------------------+\n",
      "|          Gymnastics|\n",
      "|              Tennis|\n",
      "|              Boxing|\n",
      "|Short-Track Speed...|\n",
      "|          Ice Hockey|\n",
      "|              Rowing|\n",
      "|                Judo|\n",
      "|            Softball|\n",
      "|             Sailing|\n",
      "|            Swimming|\n",
      "|       Alpine Skiing|\n",
      "|          Basketball|\n",
      "|            Handball|\n",
      "| Rhythmic Gymnastics|\n",
      "|            Biathlon|\n",
      "|           Triathlon|\n",
      "|           Badminton|\n",
      "|           Athletics|\n",
      "|      Figure Skating|\n",
      "|    Beach Volleyball|\n",
      "|          Equestrian|\n",
      "|            Shooting|\n",
      "|              Diving|\n",
      "|            Skeleton|\n",
      "|         Ski Jumping|\n",
      "|     Nordic Combined|\n",
      "|           Wrestling|\n",
      "|       Speed Skating|\n",
      "|        Table Tennis|\n",
      "|           Taekwondo|\n",
      "|            Canoeing|\n",
      "|       Weightlifting|\n",
      "|           Waterpolo|\n",
      "|            Baseball|\n",
      "|   Modern Pentathlon|\n",
      "|        Snowboarding|\n",
      "|           Bobsleigh|\n",
      "|             Cycling|\n",
      "|Cross Country Skiing|\n",
      "|          Volleyball|\n",
      "|             Archery|\n",
      "|Synchronized Swim...|\n",
      "|             Curling|\n",
      "|             Fencing|\n",
      "|              Hockey|\n",
      "|    Freestyle Skiing|\n",
      "|            Football|\n",
      "|                Luge|\n",
      "|          Trampoline|\n",
      "+--------------------+\n",
      "\n"
     ]
    }
   ],
   "source": [
    "data.select('sports').distinct().show(n=49)"
   ]
  },
  {
   "cell_type": "markdown",
   "id": "55b868e7",
   "metadata": {},
   "source": [
    "## Q3.Write PySpark code the total number of medals in each Olympic Sport/game"
   ]
  },
  {
   "cell_type": "code",
   "execution_count": 7,
   "id": "9541a687",
   "metadata": {},
   "outputs": [
    {
     "name": "stdout",
     "output_type": "stream",
     "text": [
      "+--------------------+----------------+\n",
      "|              sports|sum(total_medal)|\n",
      "+--------------------+----------------+\n",
      "|          Gymnastics|             282|\n",
      "|              Tennis|              78|\n",
      "|              Boxing|             188|\n",
      "|Short-Track Speed...|             138|\n",
      "|          Ice Hockey|             384|\n",
      "|              Rowing|             576|\n",
      "|                Judo|             224|\n",
      "|            Softball|             134|\n",
      "|             Sailing|             210|\n",
      "|            Swimming|             765|\n",
      "|       Alpine Skiing|              90|\n",
      "|          Basketball|             287|\n",
      "|            Handball|             351|\n",
      "| Rhythmic Gymnastics|              84|\n",
      "|            Biathlon|             138|\n",
      "|           Triathlon|              24|\n",
      "|           Badminton|              96|\n",
      "|           Athletics|             753|\n",
      "|      Figure Skating|              54|\n",
      "|    Beach Volleyball|              48|\n",
      "|          Equestrian|             182|\n",
      "|            Shooting|             192|\n",
      "|              Diving|             144|\n",
      "|            Skeleton|              18|\n",
      "|         Ski Jumping|              54|\n",
      "|     Nordic Combined|              54|\n",
      "|           Wrestling|             245|\n",
      "|       Speed Skating|             140|\n",
      "|        Table Tennis|              84|\n",
      "|           Taekwondo|             112|\n",
      "|            Canoeing|             333|\n",
      "|       Weightlifting|             180|\n",
      "|           Waterpolo|             306|\n",
      "|            Baseball|             216|\n",
      "|   Modern Pentathlon|              24|\n",
      "|        Snowboarding|              48|\n",
      "|           Bobsleigh|              72|\n",
      "|             Cycling|             306|\n",
      "|Cross Country Skiing|             174|\n",
      "|          Volleyball|             279|\n",
      "|             Archery|              96|\n",
      "|Synchronized Swim...|             129|\n",
      "|             Curling|              82|\n",
      "|             Fencing|             256|\n",
      "|              Hockey|             387|\n",
      "|    Freestyle Skiing|              42|\n",
      "|            Football|             407|\n",
      "|                Luge|              36|\n",
      "|          Trampoline|              24|\n",
      "+--------------------+----------------+\n",
      "\n"
     ]
    }
   ],
   "source": [
    "data.groupby('sports').sum('total_medal').show(n = 49)"
   ]
  },
  {
   "cell_type": "markdown",
   "id": "8ef975b4",
   "metadata": {},
   "source": [
    "## Q4. Sort the result based on the total number of medals."
   ]
  },
  {
   "cell_type": "code",
   "execution_count": 9,
   "id": "7ff2f0bd",
   "metadata": {},
   "outputs": [
    {
     "name": "stdout",
     "output_type": "stream",
     "text": [
      "+--------------------+----------------+\n",
      "|              sports|sum(total_medal)|\n",
      "+--------------------+----------------+\n",
      "|            Swimming|             765|\n",
      "|           Athletics|             753|\n",
      "|              Rowing|             576|\n",
      "|            Football|             407|\n",
      "|              Hockey|             387|\n",
      "|          Ice Hockey|             384|\n",
      "|            Handball|             351|\n",
      "|            Canoeing|             333|\n",
      "|           Waterpolo|             306|\n",
      "|             Cycling|             306|\n",
      "|          Basketball|             287|\n",
      "|          Gymnastics|             282|\n",
      "|          Volleyball|             279|\n",
      "|             Fencing|             256|\n",
      "|           Wrestling|             245|\n",
      "|                Judo|             224|\n",
      "|            Baseball|             216|\n",
      "|             Sailing|             210|\n",
      "|            Shooting|             192|\n",
      "|              Boxing|             188|\n",
      "|          Equestrian|             182|\n",
      "|       Weightlifting|             180|\n",
      "|Cross Country Skiing|             174|\n",
      "|              Diving|             144|\n",
      "|       Speed Skating|             140|\n",
      "|Short-Track Speed...|             138|\n",
      "|            Biathlon|             138|\n",
      "|            Softball|             134|\n",
      "|Synchronized Swim...|             129|\n",
      "|           Taekwondo|             112|\n",
      "|           Badminton|              96|\n",
      "|             Archery|              96|\n",
      "|       Alpine Skiing|              90|\n",
      "| Rhythmic Gymnastics|              84|\n",
      "|        Table Tennis|              84|\n",
      "|             Curling|              82|\n",
      "|              Tennis|              78|\n",
      "|           Bobsleigh|              72|\n",
      "|      Figure Skating|              54|\n",
      "|         Ski Jumping|              54|\n",
      "|     Nordic Combined|              54|\n",
      "|    Beach Volleyball|              48|\n",
      "|        Snowboarding|              48|\n",
      "|    Freestyle Skiing|              42|\n",
      "|                Luge|              36|\n",
      "|           Triathlon|              24|\n",
      "|   Modern Pentathlon|              24|\n",
      "|          Trampoline|              24|\n",
      "|            Skeleton|              18|\n",
      "+--------------------+----------------+\n",
      "\n"
     ]
    }
   ],
   "source": [
    "# Take SQL function as f \n",
    "import pyspark.sql.functions as f\n",
    "\n",
    "# Use group by and sum for total medals\n",
    "sport_total = data.groupby('sports').sum('total_medal')\n",
    "\n",
    "# Use order by for ordering and also use desc or descending ordering\n",
    "sport = sport_total.orderBy(f.desc('sum(total_medal)'))\n",
    "\n",
    "# Show result\n",
    "sport.show(n=49)"
   ]
  },
  {
   "cell_type": "markdown",
   "id": "69c962c7",
   "metadata": {},
   "source": [
    "## Q5. Find the total number of medals won by each country in swimming."
   ]
  },
  {
   "cell_type": "code",
   "execution_count": 23,
   "id": "5ef1306e",
   "metadata": {},
   "outputs": [
    {
     "name": "stdout",
     "output_type": "stream",
     "text": [
      "+-------------------+----------------+\n",
      "|            country|sum(total_medal)|\n",
      "+-------------------+----------------+\n",
      "|      United States|             267|\n",
      "|          Australia|             163|\n",
      "|        Netherlands|              46|\n",
      "|              Japan|              43|\n",
      "|             France|              39|\n",
      "|              China|              35|\n",
      "|            Germany|              32|\n",
      "|             Russia|              20|\n",
      "|              Italy|              16|\n",
      "|      Great Britain|              11|\n",
      "|       South Africa|              11|\n",
      "|             Sweden|               9|\n",
      "|            Hungary|               9|\n",
      "|             Brazil|               8|\n",
      "|            Ukraine|               7|\n",
      "|           Zimbabwe|               7|\n",
      "|            Romania|               6|\n",
      "|             Canada|               5|\n",
      "|        South Korea|               4|\n",
      "|              Spain|               3|\n",
      "|            Tunisia|               3|\n",
      "|             Poland|               3|\n",
      "|            Austria|               3|\n",
      "|           Slovakia|               2|\n",
      "|            Belarus|               2|\n",
      "|             Norway|               2|\n",
      "|         Costa Rica|               2|\n",
      "|          Argentina|               1|\n",
      "|            Croatia|               1|\n",
      "|          Lithuania|               1|\n",
      "|            Denmark|               1|\n",
      "|Trinidad and Tobago|               1|\n",
      "|           Slovenia|               1|\n",
      "|             Serbia|               1|\n",
      "+-------------------+----------------+\n",
      "\n"
     ]
    }
   ],
   "source": [
    "# Filter rows on sports == Swimming \n",
    "data_1 = data.filter(data.sports == 'Swimming')\n",
    "\n",
    "# Grouping by country\n",
    "data_2 = data_1.groupby('country').sum('total_medal').orderBy(f.desc('sum(total_medal)'))\n",
    "\n",
    "n = data_2.count()\n",
    "data_2.show(n)"
   ]
  },
  {
   "cell_type": "markdown",
   "id": "72057eb2",
   "metadata": {},
   "source": [
    "## Q6. Find the total number of medals won by each country in Skeleton."
   ]
  },
  {
   "cell_type": "code",
   "execution_count": 29,
   "id": "ebedbde6",
   "metadata": {},
   "outputs": [
    {
     "name": "stdout",
     "output_type": "stream",
     "text": [
      "+-------------+----------------+\n",
      "|      country|sum(total_medal)|\n",
      "+-------------+----------------+\n",
      "|       Canada|               4|\n",
      "|Great Britain|               3|\n",
      "|United States|               3|\n",
      "|  Switzerland|               3|\n",
      "|      Germany|               2|\n",
      "|       Russia|               1|\n",
      "|       Latvia|               1|\n",
      "|      Austria|               1|\n",
      "+-------------+----------------+\n",
      "\n"
     ]
    }
   ],
   "source": [
    "# Filter rows on sports == Skelwton \n",
    "data_3 = data.filter(data.sports == 'Skeleton')\n",
    "\n",
    "# Grouping by country\n",
    "data_4 = data_3.groupby('country').sum('total_medal').orderBy(f.desc('sum(total_medal)'))\n",
    "\n",
    "#Show data\n",
    "data_4.show()"
   ]
  },
  {
   "cell_type": "markdown",
   "id": "f9c80fe0",
   "metadata": {},
   "source": [
    "## Q7. Find the number of medals that the US won yearly."
   ]
  },
  {
   "cell_type": "code",
   "execution_count": 33,
   "id": "f68dd1e6",
   "metadata": {},
   "outputs": [
    {
     "name": "stdout",
     "output_type": "stream",
     "text": [
      "+----+----------------+\n",
      "|year|sum(total_medal)|\n",
      "+----+----------------+\n",
      "|2008|             317|\n",
      "|2004|             265|\n",
      "|2012|             254|\n",
      "|2000|             243|\n",
      "|2010|              97|\n",
      "|2002|              84|\n",
      "|2006|              52|\n",
      "+----+----------------+\n",
      "\n"
     ]
    }
   ],
   "source": [
    "# Filter data on the country mentioned\n",
    "data_5 = data.filter(data.country == 'United States')\n",
    "\n",
    "# Use group by year and sum of total medals\n",
    "data_6 = data_5.groupby('year').sum('total_medal').orderBy(f.desc('sum(total_medal)'))\n",
    "\n",
    "# Show Result\n",
    "data_6.show()"
   ]
  },
  {
   "cell_type": "markdown",
   "id": "f6e491ad",
   "metadata": {},
   "source": [
    "## Q8. Find the total number of medals won by each country."
   ]
  },
  {
   "cell_type": "code",
   "execution_count": 39,
   "id": "d82ebb09",
   "metadata": {},
   "outputs": [
    {
     "name": "stdout",
     "output_type": "stream",
     "text": [
      "+--------------------+----------------+\n",
      "|             country|sum(total_medal)|\n",
      "+--------------------+----------------+\n",
      "|       United States|            1312|\n",
      "|              Russia|             768|\n",
      "|             Germany|             629|\n",
      "|           Australia|             609|\n",
      "|               China|             530|\n",
      "|              Canada|             370|\n",
      "|               Italy|             331|\n",
      "|       Great Britain|             322|\n",
      "|              France|             318|\n",
      "|         Netherlands|             318|\n",
      "|         South Korea|             308|\n",
      "|               Japan|             282|\n",
      "|              Brazil|             219|\n",
      "|               Spain|             205|\n",
      "|              Norway|             192|\n",
      "|                Cuba|             188|\n",
      "|              Sweden|             181|\n",
      "|             Hungary|             145|\n",
      "|             Ukraine|             143|\n",
      "|           Argentina|             140|\n",
      "|             Romania|             123|\n",
      "|             Finland|             118|\n",
      "|             Belarus|              97|\n",
      "|         Switzerland|              93|\n",
      "|             Austria|              91|\n",
      "|             Denmark|              89|\n",
      "|             Croatia|              81|\n",
      "|      Czech Republic|              81|\n",
      "|             Jamaica|              80|\n",
      "|              Poland|              80|\n",
      "|              Greece|              59|\n",
      "|         New Zealand|              52|\n",
      "|          Kazakhstan|              42|\n",
      "|            Bulgaria|              41|\n",
      "|             Nigeria|              39|\n",
      "|               Kenya|              39|\n",
      "|Serbia and Monten...|              38|\n",
      "|              Mexico|              38|\n",
      "|            Slovakia|              35|\n",
      "|              Serbia|              31|\n",
      "|           Lithuania|              30|\n",
      "|            Ethiopia|              29|\n",
      "|              Turkey|              28|\n",
      "|          Azerbaijan|              25|\n",
      "|            Slovenia|              25|\n",
      "|        South Africa|              25|\n",
      "|             Bahamas|              24|\n",
      "|                Iran|              24|\n",
      "|             Georgia|              23|\n",
      "|               Chile|              22|\n",
      "|           Indonesia|              22|\n",
      "|         North Korea|              21|\n",
      "|      Chinese Taipei|              20|\n",
      "|            Cameroon|              20|\n",
      "| Trinidad and Tobago|              19|\n",
      "|          Uzbekistan|              19|\n",
      "|             Belgium|              18|\n",
      "|            Thailand|              18|\n",
      "|             Estonia|              18|\n",
      "|            Paraguay|              17|\n",
      "|              Latvia|              17|\n",
      "|             Iceland|              15|\n",
      "|          Montenegro|              14|\n",
      "|            Colombia|              13|\n",
      "|               India|              11|\n",
      "|             Morocco|              11|\n",
      "|            Mongolia|              10|\n",
      "|             Armenia|              10|\n",
      "|             Ireland|               9|\n",
      "|            Portugal|               9|\n",
      "|             Algeria|               8|\n",
      "|               Egypt|               8|\n",
      "|           Singapore|               7|\n",
      "|            Zimbabwe|               7|\n",
      "|        Saudi Arabia|               6|\n",
      "|  Dominican Republic|               5|\n",
      "|             Moldova|               5|\n",
      "|           Venezuela|               4|\n",
      "|              Israel|               4|\n",
      "|             Tunisia|               4|\n",
      "|            Malaysia|               3|\n",
      "|               Qatar|               3|\n",
      "|          Tajikistan|               3|\n",
      "|           Hong Kong|               3|\n",
      "|          Kyrgyzstan|               3|\n",
      "|         Afghanistan|               2|\n",
      "|              Kuwait|               2|\n",
      "|         Puerto Rico|               2|\n",
      "|          Costa Rica|               2|\n",
      "|             Vietnam|               2|\n",
      "|             Eritrea|               1|\n",
      "|               Sudan|               1|\n",
      "|           Sri Lanka|               1|\n",
      "|                Togo|               1|\n",
      "|             Ecuador|               1|\n",
      "|               Gabon|               1|\n",
      "|            Barbados|               1|\n",
      "|              Panama|               1|\n",
      "|              Cyprus|               1|\n",
      "|             Uruguay|               1|\n",
      "|           Guatemala|               1|\n",
      "|             Grenada|               1|\n",
      "|               Syria|               1|\n",
      "|              Uganda|               1|\n",
      "|United Arab Emirates|               1|\n",
      "|           Macedonia|               1|\n",
      "|          Mozambique|               1|\n",
      "|            Botswana|               1|\n",
      "|             Bahrain|               1|\n",
      "|           Mauritius|               1|\n",
      "+--------------------+----------------+\n",
      "\n"
     ]
    }
   ],
   "source": [
    "# Use function f of SQL\n",
    "import pyspark.sql.functions as f\n",
    "\n",
    "# Use groupby then sum total medals\n",
    "data_7 = data.groupby('country').sum('total_medal')\n",
    "\n",
    "# Use order by and desc for descending order\n",
    "country = data_7.orderBy(f.desc('sum(total_medal)'))\n",
    "\n",
    "# Show Result\n",
    "country.show(n = 110)"
   ]
  },
  {
   "cell_type": "markdown",
   "id": "30a5a4cf",
   "metadata": {},
   "source": [
    "## Q9 Who was the oldest athlete in the olympics?"
   ]
  },
  {
   "cell_type": "code",
   "execution_count": 53,
   "id": "8badb55e",
   "metadata": {},
   "outputs": [
    {
     "name": "stdout",
     "output_type": "stream",
     "text": [
      "+----------+----+\n",
      "|      name| age|\n",
      "+----------+----+\n",
      "|Ian Millar|61.0|\n",
      "+----------+----+\n",
      "\n"
     ]
    }
   ],
   "source": [
    "# Find the maximum age in the entire dataset\n",
    "max_age = data.agg({'age': 'max'}).collect()[0][0]\n",
    "\n",
    "# Filter the data to find the athlete with the maximum age\n",
    "athlete_with_max_age = data.filter(data.age == max_age).select('name', 'age')\n",
    "\n",
    "# Show the result\n",
    "athlete_with_max_age.show()\n"
   ]
  },
  {
   "cell_type": "markdown",
   "id": "b0cc135e",
   "metadata": {},
   "source": [
    "## Q10. Which country was he/she from?"
   ]
  },
  {
   "cell_type": "code",
   "execution_count": 56,
   "id": "6453fc63",
   "metadata": {},
   "outputs": [
    {
     "name": "stdout",
     "output_type": "stream",
     "text": [
      "+----------+----+-------+----+----------+----------+----------+------------+-----------+-----------+\n",
      "|      name| age|country|year|Date_Given|    sports|gold_medal|silver_medal|brone_medal|total_medal|\n",
      "+----------+----+-------+----+----------+----------+----------+------------+-----------+-----------+\n",
      "|Ian Millar|61.0| Canada|2008| 8/24/2008|Equestrian|         0|           1|          0|          1|\n",
      "+----------+----+-------+----+----------+----------+----------+------------+-----------+-----------+\n",
      "\n"
     ]
    }
   ],
   "source": [
    "# filter age variable\n",
    "Age = data.filter(data.age == 61)\n",
    "\n",
    "# show age\n",
    "Age.show() "
   ]
  },
  {
   "cell_type": "markdown",
   "id": "86605572",
   "metadata": {},
   "source": [
    "## Q11 plot the total number of medals in each Olympic Sport/game"
   ]
  },
  {
   "cell_type": "code",
   "execution_count": 57,
   "id": "e282e7e0",
   "metadata": {},
   "outputs": [],
   "source": [
    "# Import pandas for data analysis\n",
    "import pandas as pd\n",
    "# Import Matplotlib for data visualization\n",
    "import matplotlib.pyplot as plt\n",
    "# Import Seaborn for data visualization\n",
    "import seaborn as sns"
   ]
  },
  {
   "cell_type": "code",
   "execution_count": 58,
   "id": "36ff759a",
   "metadata": {},
   "outputs": [
    {
     "data": {
      "text/html": [
       "<div>\n",
       "<style scoped>\n",
       "    .dataframe tbody tr th:only-of-type {\n",
       "        vertical-align: middle;\n",
       "    }\n",
       "\n",
       "    .dataframe tbody tr th {\n",
       "        vertical-align: top;\n",
       "    }\n",
       "\n",
       "    .dataframe thead th {\n",
       "        text-align: right;\n",
       "    }\n",
       "</style>\n",
       "<table border=\"1\" class=\"dataframe\">\n",
       "  <thead>\n",
       "    <tr style=\"text-align: right;\">\n",
       "      <th></th>\n",
       "      <th>name</th>\n",
       "      <th>age</th>\n",
       "      <th>country</th>\n",
       "      <th>year</th>\n",
       "      <th>Date_Given</th>\n",
       "      <th>sports</th>\n",
       "      <th>gold_medal</th>\n",
       "      <th>silver_medal</th>\n",
       "      <th>brone_medal</th>\n",
       "      <th>total_medal</th>\n",
       "    </tr>\n",
       "  </thead>\n",
       "  <tbody>\n",
       "    <tr>\n",
       "      <th>0</th>\n",
       "      <td>Michael Phelps</td>\n",
       "      <td>23.0</td>\n",
       "      <td>United States</td>\n",
       "      <td>2008</td>\n",
       "      <td>8/24/2008</td>\n",
       "      <td>Swimming</td>\n",
       "      <td>8</td>\n",
       "      <td>0</td>\n",
       "      <td>0</td>\n",
       "      <td>8</td>\n",
       "    </tr>\n",
       "    <tr>\n",
       "      <th>1</th>\n",
       "      <td>Michael Phelps</td>\n",
       "      <td>19.0</td>\n",
       "      <td>United States</td>\n",
       "      <td>2004</td>\n",
       "      <td>8/29/2004</td>\n",
       "      <td>Swimming</td>\n",
       "      <td>6</td>\n",
       "      <td>0</td>\n",
       "      <td>2</td>\n",
       "      <td>8</td>\n",
       "    </tr>\n",
       "    <tr>\n",
       "      <th>2</th>\n",
       "      <td>Michael Phelps</td>\n",
       "      <td>27.0</td>\n",
       "      <td>United States</td>\n",
       "      <td>2012</td>\n",
       "      <td>08-12-2012</td>\n",
       "      <td>Swimming</td>\n",
       "      <td>4</td>\n",
       "      <td>2</td>\n",
       "      <td>0</td>\n",
       "      <td>6</td>\n",
       "    </tr>\n",
       "    <tr>\n",
       "      <th>3</th>\n",
       "      <td>Natalie Coughlin</td>\n",
       "      <td>25.0</td>\n",
       "      <td>United States</td>\n",
       "      <td>2008</td>\n",
       "      <td>8/24/2008</td>\n",
       "      <td>Swimming</td>\n",
       "      <td>1</td>\n",
       "      <td>2</td>\n",
       "      <td>3</td>\n",
       "      <td>6</td>\n",
       "    </tr>\n",
       "    <tr>\n",
       "      <th>4</th>\n",
       "      <td>Aleksey Nemov</td>\n",
       "      <td>24.0</td>\n",
       "      <td>Russia</td>\n",
       "      <td>2000</td>\n",
       "      <td>10-01-2000</td>\n",
       "      <td>Gymnastics</td>\n",
       "      <td>2</td>\n",
       "      <td>1</td>\n",
       "      <td>3</td>\n",
       "      <td>6</td>\n",
       "    </tr>\n",
       "  </tbody>\n",
       "</table>\n",
       "</div>"
      ],
      "text/plain": [
       "               name   age        country  year  Date_Given      sports  \\\n",
       "0    Michael Phelps  23.0  United States  2008   8/24/2008    Swimming   \n",
       "1    Michael Phelps  19.0  United States  2004   8/29/2004    Swimming   \n",
       "2    Michael Phelps  27.0  United States  2012  08-12-2012    Swimming   \n",
       "3  Natalie Coughlin  25.0  United States  2008   8/24/2008    Swimming   \n",
       "4     Aleksey Nemov  24.0         Russia  2000  10-01-2000  Gymnastics   \n",
       "\n",
       "   gold_medal  silver_medal  brone_medal  total_medal  \n",
       "0           8             0            0            8  \n",
       "1           6             0            2            8  \n",
       "2           4             2            0            6  \n",
       "3           1             2            3            6  \n",
       "4           2             1            3            6  "
      ]
     },
     "execution_count": 58,
     "metadata": {},
     "output_type": "execute_result"
    }
   ],
   "source": [
    "# Convert pyspark dataframe to pandas dataframe \n",
    "olympix = data.toPandas()\n",
    "\n",
    "# To read 1st five rows\n",
    "olympix.head()"
   ]
  },
  {
   "cell_type": "code",
   "execution_count": 63,
   "id": "9223bcdf",
   "metadata": {},
   "outputs": [
    {
     "data": {
      "text/plain": [
       "<Axes: title={'center': 'Total Medals By Sports'}, xlabel='sports'>"
      ]
     },
     "execution_count": 63,
     "metadata": {},
     "output_type": "execute_result"
    },
    {
     "data": {
      "image/png": "[encoded data removed]",
      "text/plain": [
       "<Figure size 2000x1500 with 1 Axes>"
      ]
     },
     "metadata": {},
     "output_type": "display_data"
    }
   ],
   "source": [
    "# Get the unique values of sports and total medals \n",
    "total_sports = olympix.groupby('sports')['total_medal'].sum().sort_values(ascending = False)\n",
    "\n",
    "# Plot the bar graph\n",
    "total_sports.plot(kind = 'bar', title = 'Total Medals By Sports', figsize = (20,15))\n"
   ]
  },
  {
   "cell_type": "markdown",
   "id": "38ef219a",
   "metadata": {},
   "source": [
    "### Top 10 sports with total medals"
   ]
  },
  {
   "cell_type": "code",
   "execution_count": 72,
   "id": "b6ce70d6",
   "metadata": {},
   "outputs": [
    {
     "data": {
      "text/plain": [
       "Text(0, 0.5, 'Total Medals')"
      ]
     },
     "execution_count": 72,
     "metadata": {},
     "output_type": "execute_result"
    },
    {
     "data": {
      "image/png": "[encoded data removed]",
      "text/plain": [
       "<Figure size 1500x800 with 1 Axes>"
      ]
     },
     "metadata": {},
     "output_type": "display_data"
    }
   ],
   "source": [
    "# To get the top 10 sports on sum of total medals\n",
    "top_10_sports = olympix.groupby('sports')['total_medal'].sum().sort_values(ascending = False).head(10)\n",
    "\n",
    "# Plot bar chart\n",
    "top_10 = top_10_sports.plot(kind = 'bar', title = 'Top 10 sports by total medals', figsize = (15,8))\n",
    "\n",
    "# To give data labels\n",
    "for index, value in enumerate(top_10_sports):\n",
    "    plt.text(index, value, str(value), ha = 'center', va = 'bottom')\n",
    "\n",
    "# Set tick labels\n",
    "top_10.set_xticklabels(top_10_sports.index)\n",
    "top_10.set_yticklabels([])\n",
    "\n",
    "# Set axis label\n",
    "top_10.set_xlabel('Sports')\n",
    "top_10.set_ylabel('Total Medals')"
   ]
  },
  {
   "cell_type": "code",
   "execution_count": null,
   "id": "87fe8bb2",
   "metadata": {},
   "outputs": [],
   "source": []
  }
 ],
 "metadata": {
  "kernelspec": {
   "display_name": "Python 3 (ipykernel)",
   "language": "python",
   "name": "python3"
  },
  "language_info": {
   "codemirror_mode": {
    "name": "ipython",
    "version": 3
   },
   "file_extension": ".py",
   "mimetype": "text/x-python",
   "name": "python",
   "nbconvert_exporter": "python",
   "pygments_lexer": "ipython3",
   "version": "3.10.9"
  }
 },
 "nbformat": 4,
 "nbformat_minor": 5
}
